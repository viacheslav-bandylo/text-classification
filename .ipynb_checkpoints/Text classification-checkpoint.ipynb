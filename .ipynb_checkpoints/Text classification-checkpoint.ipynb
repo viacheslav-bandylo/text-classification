{
 "cells": [
  {
   "cell_type": "code",
   "execution_count": 77,
   "metadata": {},
   "outputs": [],
   "source": [
    "import nltk\n",
    "import random\n",
    "from nltk.corpus import reuters\n",
    "from tqdm.auto import tqdm, trange"
   ]
  },
  {
   "cell_type": "code",
   "execution_count": 78,
   "metadata": {},
   "outputs": [
    {
     "name": "stdout",
     "output_type": "stream",
     "text": [
      "['acq', 'alum', 'barley', 'bop', 'carcass', 'castor-oil', 'cocoa', 'coconut', 'coconut-oil', 'coffee', 'copper', 'copra-cake', 'corn', 'cotton', 'cotton-oil', 'cpi', 'cpu', 'crude', 'dfl', 'dlr', 'dmk', 'earn', 'fuel', 'gas', 'gnp', 'gold', 'grain', 'groundnut', 'groundnut-oil', 'heat', 'hog', 'housing', 'income', 'instal-debt', 'interest', 'ipi', 'iron-steel', 'jet', 'jobs', 'l-cattle', 'lead', 'lei', 'lin-oil', 'livestock', 'lumber', 'meal-feed', 'money-fx', 'money-supply', 'naphtha', 'nat-gas', 'nickel', 'nkr', 'nzdlr', 'oat', 'oilseed', 'orange', 'palladium', 'palm-oil', 'palmkernel', 'pet-chem', 'platinum', 'potato', 'propane', 'rand', 'rape-oil', 'rapeseed', 'reserves', 'retail', 'rice', 'rubber', 'rye', 'ship', 'silver', 'sorghum', 'soy-meal', 'soy-oil', 'soybean', 'strategic-metal', 'sugar', 'sun-meal', 'sun-oil', 'sunseed', 'tea', 'tin', 'trade', 'veg-oil', 'wheat', 'wpi', 'yen', 'zinc']\n"
     ]
    }
   ],
   "source": [
    "categories = list(reuters.categories())\n",
    "\n",
    "print(categories)"
   ]
  },
  {
   "cell_type": "code",
   "execution_count": 79,
   "metadata": {},
   "outputs": [
    {
     "data": {
      "application/vnd.jupyter.widget-view+json": {
       "model_id": "f43259015f5b443eafd0d7621649d4f1",
       "version_major": 2,
       "version_minor": 0
      },
      "text/plain": [
       "  0%|          | 0/90 [00:00<?, ?it/s]"
      ]
     },
     "metadata": {},
     "output_type": "display_data"
    },
    {
     "name": "stdout",
     "output_type": "stream",
     "text": [
      "[['PAYCHEX', 'INC', '&', 'lt', ';', 'PAYX', '>', '3RD', 'QTR', 'FEB', '28', 'NET', 'Shr', '13', 'cts', 'vs', '10', 'cts', 'Net', '1', ',', '109', ',', '000', 'vs', '875', ',', '000', 'Revs', '16', '.', '6', 'mln', 'vs', '13', '.', '2', 'mln', 'Nine', 'mths', 'Shr', '44', 'cts', 'vs', '33', 'cts', 'Net', '3', ',', '770', ',', '000', 'vs', '2', ',', '851', ',', '000', 'Revs', '46', '.', '9', 'mln', 'vs', '36', '.', '9', 'mln', 'NOTE', ':', 'Share', 'adjusted', 'for', 'three', '-', 'for', '-', 'two', 'stock', 'split', 'in', 'June', '1986', '.'], 'earn', 'training/8292']\n"
     ]
    }
   ],
   "source": [
    "#Put all data to one list\n",
    "documents = []\n",
    "\n",
    "for category in tqdm(reuters.categories()):\n",
    "    for fileid in reuters.fileids(category):\n",
    "        documents.append([list(reuters.words(fileid)), category, fileid])\n",
    "\n",
    "random.shuffle(documents)\n",
    "\n",
    "print(documents[1])"
   ]
  },
  {
   "cell_type": "markdown",
   "metadata": {},
   "source": [
    "# Preparing texts"
   ]
  },
  {
   "cell_type": "code",
   "execution_count": 94,
   "metadata": {},
   "outputs": [],
   "source": [
    "import string\n",
    "\n",
    "\n",
    "def remove_punctuation(text):\n",
    "    return [ch for ch in text if ch[0] not in string.punctuation]\n",
    "\n",
    "\n",
    "def remove_numbers(text):\n",
    "    return [i for i in text if not i[0].isdigit()]\n",
    "\n",
    "\n",
    "def get_lower(text):\n",
    "    return [word.lower() for word in text]"
   ]
  },
  {
   "cell_type": "code",
   "execution_count": 95,
   "metadata": {},
   "outputs": [
    {
     "data": {
      "application/vnd.jupyter.widget-view+json": {
       "model_id": "4cb9dc32dffb488a83eb14287c0ee1ba",
       "version_major": 2,
       "version_minor": 0
      },
      "text/plain": [
       "  0%|          | 0/13328 [00:00<?, ?it/s]"
      ]
     },
     "metadata": {},
     "output_type": "display_data"
    }
   ],
   "source": [
    "#Remove punctuation and numbers from lower case text\n",
    "prep_text = []\n",
    "\n",
    "for document in tqdm(documents):\n",
    "    prep_text.append([get_lower(remove_numbers(remove_punctuation(document[0]))), document[1], document[2]])"
   ]
  },
  {
   "cell_type": "code",
   "execution_count": 96,
   "metadata": {},
   "outputs": [
    {
     "name": "stdout",
     "output_type": "stream",
     "text": [
      "[['paychex', 'inc', 'lt', 'payx', 'qtr', 'feb', 'net', 'shr', 'cts', 'vs', 'cts', 'net', 'vs', 'revs', 'mln', 'vs', 'mln', 'nine', 'mths', 'shr', 'cts', 'vs', 'cts', 'net', 'vs', 'revs', 'mln', 'vs', 'mln', 'note', 'share', 'adjusted', 'for', 'three', 'for', 'two', 'stock', 'split', 'in', 'june'], 'earn', 'training/8292']\n"
     ]
    }
   ],
   "source": [
    "print(prep_text[1])"
   ]
  },
  {
   "cell_type": "markdown",
   "metadata": {},
   "source": [
    "# Stemming"
   ]
  },
  {
   "cell_type": "code",
   "execution_count": 98,
   "metadata": {},
   "outputs": [],
   "source": [
    "from nltk.stem import PorterStemmer\n",
    "ps = PorterStemmer()\n",
    "\n",
    "\n",
    "def stemming_text(text):\n",
    "    return [ps.stem(word) for word in text]"
   ]
  },
  {
   "cell_type": "code",
   "execution_count": 99,
   "metadata": {},
   "outputs": [
    {
     "data": {
      "application/vnd.jupyter.widget-view+json": {
       "model_id": "cd37a254dc4a46c293abbfb02dee7bcb",
       "version_major": 2,
       "version_minor": 0
      },
      "text/plain": [
       "  0%|          | 0/13328 [00:00<?, ?it/s]"
      ]
     },
     "metadata": {},
     "output_type": "display_data"
    }
   ],
   "source": [
    "#Text stemming\n",
    "stemmed_texts = []\n",
    "\n",
    "for text in tqdm(prep_text):\n",
    "    stemmed_texts.append([stemming_text(text[0]), text[1], text[2]])"
   ]
  },
  {
   "cell_type": "code",
   "execution_count": 100,
   "metadata": {},
   "outputs": [
    {
     "name": "stdout",
     "output_type": "stream",
     "text": [
      "[['paychex', 'inc', 'lt', 'payx', 'qtr', 'feb', 'net', 'shr', 'ct', 'vs', 'ct', 'net', 'vs', 'rev', 'mln', 'vs', 'mln', 'nine', 'mth', 'shr', 'ct', 'vs', 'ct', 'net', 'vs', 'rev', 'mln', 'vs', 'mln', 'note', 'share', 'adjust', 'for', 'three', 'for', 'two', 'stock', 'split', 'in', 'june'], 'earn', 'training/8292']\n"
     ]
    }
   ],
   "source": [
    "print(stemmed_texts[1])"
   ]
  },
  {
   "cell_type": "code",
   "execution_count": 101,
   "metadata": {},
   "outputs": [],
   "source": [
    "from nltk.corpus import stopwords\n",
    "\n",
    "\n",
    "def remove_stopwords(text):\n",
    "    return [word for word in text if word not in stopwords.words('english')]"
   ]
  },
  {
   "cell_type": "code",
   "execution_count": 102,
   "metadata": {},
   "outputs": [
    {
     "data": {
      "application/vnd.jupyter.widget-view+json": {
       "model_id": "c6ec61be0a014f2192fd8bc36b9f48ee",
       "version_major": 2,
       "version_minor": 0
      },
      "text/plain": [
       "  0%|          | 0/13328 [00:00<?, ?it/s]"
      ]
     },
     "metadata": {},
     "output_type": "display_data"
    }
   ],
   "source": [
    "#Remove stopwords\n",
    "without_stopwords = []\n",
    "\n",
    "for text in tqdm(stemmed_texts):\n",
    "    without_stopwords.append([remove_stopwords(text[0]), text[1], text[2]])"
   ]
  },
  {
   "cell_type": "code",
   "execution_count": 103,
   "metadata": {},
   "outputs": [
    {
     "name": "stdout",
     "output_type": "stream",
     "text": [
      "[['paychex', 'inc', 'lt', 'payx', 'qtr', 'feb', 'net', 'shr', 'ct', 'vs', 'ct', 'net', 'vs', 'rev', 'mln', 'vs', 'mln', 'nine', 'mth', 'shr', 'ct', 'vs', 'ct', 'net', 'vs', 'rev', 'mln', 'vs', 'mln', 'note', 'share', 'adjust', 'three', 'two', 'stock', 'split', 'june'], 'earn', 'training/8292']\n"
     ]
    }
   ],
   "source": [
    "print(without_stopwords[1])"
   ]
  },
  {
   "cell_type": "markdown",
   "metadata": {},
   "source": [
    "# Preparing data for learning"
   ]
  },
  {
   "cell_type": "code",
   "execution_count": 105,
   "metadata": {},
   "outputs": [],
   "source": [
    "X_train = [\" \".join(text[0]) for text in without_stopwords if 'training' in text[2]]\n",
    "X_test = [\" \".join(text[0]) for text in without_stopwords if 'test' in text[2]]\n",
    "y_train = [topic[1] for topic in without_stopwords if 'training' in topic[2]]\n",
    "y_test = [topic[1] for topic in without_stopwords if 'test' in topic[2]]"
   ]
  },
  {
   "cell_type": "markdown",
   "metadata": {},
   "source": [
    "# Naive Bayes Classifier"
   ]
  },
  {
   "cell_type": "code",
   "execution_count": 107,
   "metadata": {},
   "outputs": [],
   "source": [
    "from sklearn.naive_bayes import MultinomialNB\n",
    "from sklearn.pipeline import Pipeline\n",
    "from sklearn.feature_extraction.text import CountVectorizer\n",
    "from sklearn.feature_extraction.text import TfidfTransformer"
   ]
  },
  {
   "cell_type": "code",
   "execution_count": 108,
   "metadata": {},
   "outputs": [],
   "source": [
    "nb = Pipeline([('vect', CountVectorizer()),\n",
    "               ('tfidf', TfidfTransformer()),\n",
    "               ('clf', MultinomialNB()),\n",
    "              ])"
   ]
  },
  {
   "cell_type": "code",
   "execution_count": 109,
   "metadata": {},
   "outputs": [
    {
     "name": "stdout",
     "output_type": "stream",
     "text": [
      "Wall time: 810 ms\n"
     ]
    },
    {
     "data": {
      "text/plain": [
       "Pipeline(steps=[('vect', CountVectorizer()), ('tfidf', TfidfTransformer()),\n",
       "                ('clf', MultinomialNB())])"
      ]
     },
     "execution_count": 109,
     "metadata": {},
     "output_type": "execute_result"
    }
   ],
   "source": [
    "%%time\n",
    "nb.fit(X_train, y_train)"
   ]
  },
  {
   "cell_type": "code",
   "execution_count": 110,
   "metadata": {},
   "outputs": [
    {
     "name": "stdout",
     "output_type": "stream",
     "text": [
      "cellular inc lt cel sell unit take gain cellular inc said reach definit agreement sell asset wholli michigan cellular inc centuri telephon enterpris inc lt ctl add ct share year earn result said sale subject regulatori approv repres capit gain excess dlr origin price paid cellular cellular interest michigan acquir decemb acq acq\n",
      "Wall time: 257 ms\n"
     ]
    }
   ],
   "source": [
    "%%time\n",
    "from sklearn.metrics import classification_report\n",
    "y_pred = nb.predict(X_test)\n",
    "\n",
    "print(X_test[2], y_test[2], y_pred[2])"
   ]
  },
  {
   "cell_type": "code",
   "execution_count": 112,
   "metadata": {},
   "outputs": [
    {
     "name": "stdout",
     "output_type": "stream",
     "text": [
      "accuracy = 0.6047008547008547\n",
      "                 precision    recall  f1-score   support\n",
      "\n",
      "            acq       0.66      0.94      0.77       719\n",
      "           alum       0.00      0.00      0.00        23\n",
      "         barley       0.00      0.00      0.00        14\n",
      "            bop       0.00      0.00      0.00        30\n",
      "        carcass       0.00      0.00      0.00        18\n",
      "     castor-oil       0.00      0.00      0.00         1\n",
      "          cocoa       0.00      0.00      0.00        18\n",
      "        coconut       0.00      0.00      0.00         2\n",
      "    coconut-oil       0.00      0.00      0.00         3\n",
      "         coffee       1.00      0.18      0.30        28\n",
      "         copper       0.00      0.00      0.00        18\n",
      "     copra-cake       0.00      0.00      0.00         1\n",
      "           corn       0.00      0.00      0.00        56\n",
      "         cotton       0.00      0.00      0.00        20\n",
      "     cotton-oil       0.00      0.00      0.00         2\n",
      "            cpi       0.00      0.00      0.00        28\n",
      "            cpu       0.00      0.00      0.00         1\n",
      "          crude       0.68      0.70      0.69       189\n",
      "            dfl       0.00      0.00      0.00         1\n",
      "            dlr       0.00      0.00      0.00        44\n",
      "            dmk       0.00      0.00      0.00         4\n",
      "           earn       0.71      0.99      0.83      1087\n",
      "           fuel       0.00      0.00      0.00        10\n",
      "            gas       0.00      0.00      0.00        17\n",
      "            gnp       0.00      0.00      0.00        35\n",
      "           gold       0.00      0.00      0.00        30\n",
      "          grain       0.27      0.80      0.41       149\n",
      "      groundnut       0.00      0.00      0.00         4\n",
      "  groundnut-oil       0.00      0.00      0.00         1\n",
      "           heat       0.00      0.00      0.00         5\n",
      "            hog       0.00      0.00      0.00         6\n",
      "        housing       0.00      0.00      0.00         4\n",
      "         income       0.00      0.00      0.00         7\n",
      "    instal-debt       0.00      0.00      0.00         1\n",
      "       interest       1.00      0.15      0.25       131\n",
      "            ipi       0.00      0.00      0.00        12\n",
      "     iron-steel       0.00      0.00      0.00        14\n",
      "            jet       0.00      0.00      0.00         1\n",
      "           jobs       0.00      0.00      0.00        21\n",
      "       l-cattle       0.00      0.00      0.00         2\n",
      "           lead       0.00      0.00      0.00        14\n",
      "            lei       0.00      0.00      0.00         3\n",
      "        lin-oil       0.00      0.00      0.00         1\n",
      "      livestock       0.00      0.00      0.00        24\n",
      "         lumber       0.00      0.00      0.00         6\n",
      "      meal-feed       0.00      0.00      0.00        19\n",
      "       money-fx       0.41      0.94      0.57       179\n",
      "   money-supply       0.00      0.00      0.00        34\n",
      "        naphtha       0.00      0.00      0.00         4\n",
      "        nat-gas       0.00      0.00      0.00        30\n",
      "         nickel       0.00      0.00      0.00         1\n",
      "            nkr       0.00      0.00      0.00         2\n",
      "          nzdlr       0.00      0.00      0.00         2\n",
      "            oat       0.00      0.00      0.00         6\n",
      "        oilseed       0.00      0.00      0.00        47\n",
      "         orange       0.00      0.00      0.00        11\n",
      "      palladium       0.00      0.00      0.00         1\n",
      "       palm-oil       0.00      0.00      0.00        10\n",
      "     palmkernel       0.00      0.00      0.00         1\n",
      "       pet-chem       0.00      0.00      0.00        12\n",
      "       platinum       0.00      0.00      0.00         7\n",
      "         potato       0.00      0.00      0.00         3\n",
      "        propane       0.00      0.00      0.00         3\n",
      "           rand       0.00      0.00      0.00         1\n",
      "       rape-oil       0.00      0.00      0.00         3\n",
      "       rapeseed       0.00      0.00      0.00         9\n",
      "       reserves       0.00      0.00      0.00        18\n",
      "         retail       0.00      0.00      0.00         2\n",
      "           rice       0.00      0.00      0.00        24\n",
      "         rubber       0.00      0.00      0.00        12\n",
      "            rye       0.00      0.00      0.00         1\n",
      "           ship       0.57      0.04      0.08        89\n",
      "         silver       0.00      0.00      0.00         8\n",
      "        sorghum       0.00      0.00      0.00        10\n",
      "       soy-meal       0.00      0.00      0.00        13\n",
      "        soy-oil       0.00      0.00      0.00        11\n",
      "        soybean       0.00      0.00      0.00        33\n",
      "strategic-metal       0.00      0.00      0.00        11\n",
      "          sugar       1.00      0.03      0.05        36\n",
      "       sun-meal       0.00      0.00      0.00         1\n",
      "        sun-oil       0.00      0.00      0.00         2\n",
      "        sunseed       0.00      0.00      0.00         5\n",
      "            tea       0.00      0.00      0.00         4\n",
      "            tin       0.00      0.00      0.00        12\n",
      "          trade       0.49      0.54      0.51       117\n",
      "        veg-oil       0.00      0.00      0.00        37\n",
      "          wheat       0.00      0.00      0.00        71\n",
      "            wpi       0.00      0.00      0.00        10\n",
      "            yen       0.00      0.00      0.00        14\n",
      "           zinc       0.00      0.00      0.00        13\n",
      "\n",
      "       accuracy                           0.60      3744\n",
      "      macro avg       0.08      0.06      0.05      3744\n",
      "   weighted avg       0.48      0.60      0.50      3744\n",
      "\n"
     ]
    },
    {
     "name": "stderr",
     "output_type": "stream",
     "text": [
      "c:\\users\\viach\\appdata\\local\\programs\\python\\python38-32\\lib\\site-packages\\sklearn\\metrics\\_classification.py:1245: UndefinedMetricWarning: Precision and F-score are ill-defined and being set to 0.0 in labels with no predicted samples. Use `zero_division` parameter to control this behavior.\n",
      "  _warn_prf(average, modifier, msg_start, len(result))\n",
      "c:\\users\\viach\\appdata\\local\\programs\\python\\python38-32\\lib\\site-packages\\sklearn\\metrics\\_classification.py:1245: UndefinedMetricWarning: Precision and F-score are ill-defined and being set to 0.0 in labels with no predicted samples. Use `zero_division` parameter to control this behavior.\n",
      "  _warn_prf(average, modifier, msg_start, len(result))\n",
      "c:\\users\\viach\\appdata\\local\\programs\\python\\python38-32\\lib\\site-packages\\sklearn\\metrics\\_classification.py:1245: UndefinedMetricWarning: Precision and F-score are ill-defined and being set to 0.0 in labels with no predicted samples. Use `zero_division` parameter to control this behavior.\n",
      "  _warn_prf(average, modifier, msg_start, len(result))\n"
     ]
    }
   ],
   "source": [
    "from sklearn.metrics import accuracy_score\n",
    "\n",
    "print('accuracy = %s' % accuracy_score(y_pred, y_test))\n",
    "print(classification_report(y_test, y_pred))"
   ]
  },
  {
   "cell_type": "markdown",
   "metadata": {},
   "source": [
    "# Linear Support Vector Machine"
   ]
  },
  {
   "cell_type": "code",
   "execution_count": 114,
   "metadata": {},
   "outputs": [],
   "source": [
    "from sklearn.linear_model import SGDClassifier\n",
    "\n",
    "sgd = Pipeline([('vect', CountVectorizer()),\n",
    "                ('tfidf', TfidfTransformer()),\n",
    "                ('clf', SGDClassifier(loss='hinge', penalty='l2', alpha=1e-3, random_state=42, max_iter=5, tol=None)),\n",
    "               ])"
   ]
  },
  {
   "cell_type": "code",
   "execution_count": 115,
   "metadata": {},
   "outputs": [
    {
     "name": "stdout",
     "output_type": "stream",
     "text": [
      "Wall time: 1.37 s\n"
     ]
    },
    {
     "data": {
      "text/plain": [
       "Pipeline(steps=[('vect', CountVectorizer()), ('tfidf', TfidfTransformer()),\n",
       "                ('clf',\n",
       "                 SGDClassifier(alpha=0.001, max_iter=5, random_state=42,\n",
       "                               tol=None))])"
      ]
     },
     "execution_count": 115,
     "metadata": {},
     "output_type": "execute_result"
    }
   ],
   "source": [
    "%%time\n",
    "sgd.fit(X_train, y_train)"
   ]
  },
  {
   "cell_type": "code",
   "execution_count": 116,
   "metadata": {},
   "outputs": [
    {
     "name": "stdout",
     "output_type": "stream",
     "text": [
      "accuracy = 0.7013888888888888\n",
      "                 precision    recall  f1-score   support\n",
      "\n",
      "            acq       0.73      0.99      0.84       719\n",
      "           alum       0.43      0.43      0.43        23\n",
      "         barley       0.50      0.07      0.12        14\n",
      "            bop       0.43      0.20      0.27        30\n",
      "        carcass       0.60      0.17      0.26        18\n",
      "     castor-oil       0.00      0.00      0.00         1\n",
      "          cocoa       0.54      0.78      0.64        18\n",
      "        coconut       0.17      0.50      0.25         2\n",
      "    coconut-oil       0.00      0.00      0.00         3\n",
      "         coffee       0.52      1.00      0.68        28\n",
      "         copper       1.00      0.50      0.67        18\n",
      "     copra-cake       0.00      0.00      0.00         1\n",
      "           corn       0.37      0.12      0.19        56\n",
      "         cotton       0.48      0.55      0.51        20\n",
      "     cotton-oil       0.00      0.00      0.00         2\n",
      "            cpi       0.52      0.46      0.49        28\n",
      "            cpu       0.00      0.00      0.00         1\n",
      "          crude       0.63      0.75      0.68       189\n",
      "            dfl       0.00      0.00      0.00         1\n",
      "            dlr       0.40      0.05      0.08        44\n",
      "            dmk       0.00      0.00      0.00         4\n",
      "           earn       0.91      0.98      0.94      1087\n",
      "           fuel       0.67      0.20      0.31        10\n",
      "            gas       1.00      0.06      0.11        17\n",
      "            gnp       0.45      0.60      0.51        35\n",
      "           gold       0.63      0.80      0.71        30\n",
      "          grain       0.40      0.19      0.26       149\n",
      "      groundnut       0.00      0.00      0.00         4\n",
      "  groundnut-oil       0.00      0.00      0.00         1\n",
      "           heat       1.00      0.60      0.75         5\n",
      "            hog       0.00      0.00      0.00         6\n",
      "        housing       1.00      0.50      0.67         4\n",
      "         income       0.00      0.00      0.00         7\n",
      "    instal-debt       0.00      0.00      0.00         1\n",
      "       interest       0.64      0.66      0.65       131\n",
      "            ipi       0.80      0.67      0.73        12\n",
      "     iron-steel       0.44      0.29      0.35        14\n",
      "            jet       0.00      0.00      0.00         1\n",
      "           jobs       0.67      0.57      0.62        21\n",
      "       l-cattle       0.00      0.00      0.00         2\n",
      "           lead       0.00      0.00      0.00        14\n",
      "            lei       1.00      1.00      1.00         3\n",
      "        lin-oil       0.00      0.00      0.00         1\n",
      "      livestock       0.56      0.21      0.30        24\n",
      "         lumber       1.00      0.33      0.50         6\n",
      "      meal-feed       0.33      0.05      0.09        19\n",
      "       money-fx       0.56      0.65      0.60       179\n",
      "   money-supply       0.81      0.74      0.77        34\n",
      "        naphtha       0.00      0.00      0.00         4\n",
      "        nat-gas       0.50      0.07      0.12        30\n",
      "         nickel       1.00      1.00      1.00         1\n",
      "            nkr       0.00      0.00      0.00         2\n",
      "          nzdlr       0.00      0.00      0.00         2\n",
      "            oat       0.00      0.00      0.00         6\n",
      "        oilseed       0.18      0.11      0.13        47\n",
      "         orange       0.70      0.64      0.67        11\n",
      "      palladium       0.00      0.00      0.00         1\n",
      "       palm-oil       0.00      0.00      0.00        10\n",
      "     palmkernel       0.00      0.00      0.00         1\n",
      "       pet-chem       0.00      0.00      0.00        12\n",
      "       platinum       0.00      0.00      0.00         7\n",
      "         potato       0.00      0.00      0.00         3\n",
      "        propane       0.00      0.00      0.00         3\n",
      "           rand       0.00      0.00      0.00         1\n",
      "       rape-oil       0.00      0.00      0.00         3\n",
      "       rapeseed       0.50      0.22      0.31         9\n",
      "       reserves       1.00      0.28      0.43        18\n",
      "         retail       0.00      0.00      0.00         2\n",
      "           rice       0.17      0.12      0.14        24\n",
      "         rubber       0.53      0.67      0.59        12\n",
      "            rye       0.00      0.00      0.00         1\n",
      "           ship       0.54      0.57      0.55        89\n",
      "         silver       0.00      0.00      0.00         8\n",
      "        sorghum       0.50      0.10      0.17        10\n",
      "       soy-meal       0.00      0.00      0.00        13\n",
      "        soy-oil       0.00      0.00      0.00        11\n",
      "        soybean       0.17      0.09      0.12        33\n",
      "strategic-metal       0.00      0.00      0.00        11\n",
      "          sugar       0.38      0.89      0.53        36\n",
      "       sun-meal       0.00      0.00      0.00         1\n",
      "        sun-oil       0.00      0.00      0.00         2\n",
      "        sunseed       0.00      0.00      0.00         5\n",
      "            tea       0.00      0.00      0.00         4\n",
      "            tin       0.73      0.67      0.70        12\n",
      "          trade       0.51      0.78      0.62       117\n",
      "        veg-oil       0.58      0.19      0.29        37\n",
      "          wheat       0.43      0.32      0.37        71\n",
      "            wpi       1.00      0.50      0.67        10\n",
      "            yen       0.40      0.14      0.21        14\n",
      "           zinc       0.80      0.31      0.44        13\n",
      "\n",
      "       accuracy                           0.70      3744\n",
      "      macro avg       0.34      0.26      0.27      3744\n",
      "   weighted avg       0.66      0.70      0.66      3744\n",
      "\n",
      "Wall time: 366 ms\n"
     ]
    },
    {
     "name": "stderr",
     "output_type": "stream",
     "text": [
      "c:\\users\\viach\\appdata\\local\\programs\\python\\python38-32\\lib\\site-packages\\sklearn\\metrics\\_classification.py:1245: UndefinedMetricWarning: Precision and F-score are ill-defined and being set to 0.0 in labels with no predicted samples. Use `zero_division` parameter to control this behavior.\n",
      "  _warn_prf(average, modifier, msg_start, len(result))\n",
      "c:\\users\\viach\\appdata\\local\\programs\\python\\python38-32\\lib\\site-packages\\sklearn\\metrics\\_classification.py:1245: UndefinedMetricWarning: Precision and F-score are ill-defined and being set to 0.0 in labels with no predicted samples. Use `zero_division` parameter to control this behavior.\n",
      "  _warn_prf(average, modifier, msg_start, len(result))\n",
      "c:\\users\\viach\\appdata\\local\\programs\\python\\python38-32\\lib\\site-packages\\sklearn\\metrics\\_classification.py:1245: UndefinedMetricWarning: Precision and F-score are ill-defined and being set to 0.0 in labels with no predicted samples. Use `zero_division` parameter to control this behavior.\n",
      "  _warn_prf(average, modifier, msg_start, len(result))\n"
     ]
    }
   ],
   "source": [
    "%%time\n",
    "y_pred = sgd.predict(X_test)\n",
    "\n",
    "print('accuracy = %s' % accuracy_score(y_pred, y_test))\n",
    "print(classification_report(y_test, y_pred))"
   ]
  },
  {
   "cell_type": "markdown",
   "metadata": {},
   "source": [
    "# Lets check"
   ]
  },
  {
   "cell_type": "code",
   "execution_count": 147,
   "metadata": {},
   "outputs": [],
   "source": [
    "from nltk.tokenize import word_tokenize\n",
    "\n",
    "gold_text = '''\n",
    "The World Gold Council, the market development organisation for the gold industry, \n",
    "announces that Equinox Gold Corp. has joined its Board of Members. \n",
    "\n",
    "Equinox Gold is a Canadian mining company with seven operating gold mines and \n",
    "construction underway at an eighth site. Equinox Gold operates entirely in the Americas, \n",
    "with two properties in the United States, one in Mexico and five in Brazil. \n",
    "Equinox Gold has a multimillion ounce gold reserve base and a pipeline of development and \n",
    "expansion projects for organic gold production growth. The Company’s proposed\n",
    "acquisition of Premier Gold Mines will bring further asset and country diversification \n",
    "with the addition of a producing mine in Mexico and a development-stage project in Canada.\n",
    "\n",
    "Randy Smallwood, Chair of the World Gold Council, commented: \n",
    "“I am thrilled to welcome Equinox Gold to the World Gold Council. \n",
    "They play an important role in the production and exploration of gold in the Americas \n",
    "and have exciting future growth plans. I have known the company and management team for \n",
    "many years and am delighted that they will bring their experience and expertise to support \n",
    "the mission of the World Gold Council.”\n",
    "\n",
    "Christian Milau, Chief Executive Officer, Equinox Gold, said: \n",
    "“We are very pleased to join the World Gold Council. Our values are aligned with \n",
    "the World’s Gold Council’s commitments to raising standards and building trust \n",
    "and transparency in the industry. We look forward to engaging with the Council’s \n",
    "members to share best practices and work towards achieving our shared goals.” \n",
    "'''\n",
    "\n",
    "gold_text = ' '.join(remove_stopwords(stemming_text(get_lower(remove_numbers(remove_punctuation(word_tokenize(gold_text)))))))"
   ]
  },
  {
   "cell_type": "code",
   "execution_count": 148,
   "metadata": {},
   "outputs": [
    {
     "name": "stdout",
     "output_type": "stream",
     "text": [
      "['gold']\n"
     ]
    }
   ],
   "source": [
    "#Predict for news about gold\n",
    "ect_pred = sgd.predict([gold_text])\n",
    "print(ect_pred)"
   ]
  },
  {
   "cell_type": "code",
   "execution_count": 153,
   "metadata": {},
   "outputs": [],
   "source": [
    "coffee_text = '''\n",
    "That morning cup of java may be providing a lot more benefits than just giving you the energy\n",
    "to start your day. Numerous studies have shown that daily consumption of coffee can help you \n",
    "to live a longer, healthier life.\n",
    "\n",
    "You may have heard of some of coffee's many health benefits, but there may also be a few \n",
    "that you weren't aware of.\n",
    "\n",
    "Last year, the Harvard Gazette reviewed a number of studies and discovered \"an emerging \n",
    "picture of coffee as a potentially powerful elixir\" against a range of ailments, \n",
    "from cancer to cavities.\n",
    "'''\n",
    "\n",
    "coffee_text = ' '.join(remove_stopwords(stemming_text(get_lower(remove_numbers(remove_punctuation(word_tokenize(coffee_text)))))))"
   ]
  },
  {
   "cell_type": "code",
   "execution_count": 154,
   "metadata": {},
   "outputs": [
    {
     "name": "stdout",
     "output_type": "stream",
     "text": [
      "['coffee']\n"
     ]
    }
   ],
   "source": [
    "#Predict for news about coffee\n",
    "ect_pred_2 = sgd.predict([coffee_text])\n",
    "print(ect_pred_2)"
   ]
  },
  {
   "cell_type": "markdown",
   "metadata": {},
   "source": [
    "# Conclusion\n",
    "\n",
    "From Linear Support Vector Machine algorithm we have more accuracity then Naive Bayes Classifier algorithm, but accuracity still not too much (70 %). So if we take more data with better quality we can predict it better."
   ]
  }
 ],
 "metadata": {
  "kernelspec": {
   "display_name": "Python 3",
   "language": "python",
   "name": "python3"
  },
  "language_info": {
   "codemirror_mode": {
    "name": "ipython",
    "version": 3
   },
   "file_extension": ".py",
   "mimetype": "text/x-python",
   "name": "python",
   "nbconvert_exporter": "python",
   "pygments_lexer": "ipython3",
   "version": "3.8.2"
  }
 },
 "nbformat": 4,
 "nbformat_minor": 4
}
